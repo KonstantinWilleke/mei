{
 "cells": [
  {
   "cell_type": "code",
   "execution_count": 1,
   "metadata": {},
   "outputs": [
    {
     "name": "stdout",
     "output_type": "stream",
     "text": [
      "Created `%%b` as an alias for `%%black -l 120`.\n"
     ]
    }
   ],
   "source": [
    "%load_ext blackcellmagic\n",
    "%alias_magic -c -p \"-l 120\" b black"
   ]
  },
  {
   "cell_type": "markdown",
   "metadata": {},
   "source": [
    "# MEI Demo"
   ]
  },
  {
   "cell_type": "code",
   "execution_count": 2,
   "metadata": {},
   "outputs": [
    {
     "name": "stdout",
     "output_type": "stream",
     "text": [
      "Connecting christoph@sinzlab.chlkmukhxp6i.eu-central-1.rds.amazonaws.com:3306\n"
     ]
    }
   ],
   "source": [
    "import datajoint as dj\n",
    "\n",
    "dj.config[\"enable_python_native_blobs\"] = True\n",
    "dj.config[\"schema_name\"] = \"nnfabrik_tutorial\"\n",
    "\n",
    "schema = dj.schema(\"nnfabrik_tutorial\")"
   ]
  },
  {
   "cell_type": "code",
   "execution_count": 3,
   "metadata": {},
   "outputs": [],
   "source": [
    "import os\n",
    "\n",
    "from matplotlib import pyplot as plt\n",
    "from torch import load\n",
    "\n",
    "from featurevis.main import TrainedEnsembleModelTemplate, CSRFV1SelectorTemplate, MEISeed, MEIMethod, MEITemplate\n",
    "from nnfabrik.template import TrainedModelBase\n",
    "from nnfabrik.main import Dataset"
   ]
  },
  {
   "cell_type": "markdown",
   "metadata": {},
   "source": [
    "## 1. Define Tables"
   ]
  },
  {
   "cell_type": "code",
   "execution_count": 4,
   "metadata": {},
   "outputs": [],
   "source": [
    "@schema\n",
    "class TrainedModel(TrainedModelBase):\n",
    "    pass\n",
    "\n",
    "\n",
    "@schema\n",
    "class TrainedEnsembleModel(TrainedEnsembleModelTemplate):\n",
    "    dataset_table = Dataset\n",
    "    trained_model_table = TrainedModel\n",
    "\n",
    "\n",
    "@schema\n",
    "class CSRFV1Selector(CSRFV1SelectorTemplate):\n",
    "    dataset_table = Dataset\n",
    "\n",
    "\n",
    "@schema\n",
    "class MEI(MEITemplate):\n",
    "    trained_model_table = TrainedEnsembleModel\n",
    "    selector_table = CSRFV1Selector"
   ]
  },
  {
   "cell_type": "markdown",
   "metadata": {},
   "source": [
    "## 2. Reset Tables For Demo"
   ]
  },
  {
   "cell_type": "code",
   "execution_count": 5,
   "metadata": {},
   "outputs": [
    {
     "name": "stdout",
     "output_type": "stream",
     "text": [
      "`nnfabrik_tutorial`.`__c_s_r_f_v1_selector` (14 tuples)\n",
      "`nnfabrik_tutorial`.`__m_e_i` (1 tuples)\n"
     ]
    },
    {
     "name": "stdin",
     "output_type": "stream",
     "text": [
      "Proceed? [yes, No]:  yes\n"
     ]
    },
    {
     "name": "stdout",
     "output_type": "stream",
     "text": [
      "Tables dropped.  Restart kernel.\n",
      "`nnfabrik_tutorial`.`trained_ensemble_model` (1 tuples)\n",
      "`nnfabrik_tutorial`.`trained_ensemble_model__member` (2 tuples)\n"
     ]
    },
    {
     "name": "stdin",
     "output_type": "stream",
     "text": [
      "Proceed? [yes, No]:  yes\n"
     ]
    },
    {
     "name": "stdout",
     "output_type": "stream",
     "text": [
      "Tables dropped.  Restart kernel.\n",
      "`nnfabrik_tutorial`.`#m_e_i_method` (1 tuples)\n"
     ]
    },
    {
     "name": "stdin",
     "output_type": "stream",
     "text": [
      "Proceed? [yes, No]:  yes\n"
     ]
    },
    {
     "name": "stdout",
     "output_type": "stream",
     "text": [
      "Tables dropped.  Restart kernel.\n",
      "`nnfabrik_tutorial`.`#m_e_i_seed` (1 tuples)\n"
     ]
    },
    {
     "name": "stdin",
     "output_type": "stream",
     "text": [
      "Proceed? [yes, No]:  yes\n"
     ]
    },
    {
     "name": "stdout",
     "output_type": "stream",
     "text": [
      "Tables dropped.  Restart kernel.\n"
     ]
    }
   ],
   "source": [
    "CSRFV1Selector().drop()\n",
    "TrainedEnsembleModel().drop()\n",
    "MEIMethod().drop()\n",
    "MEISeed().drop()"
   ]
  },
  {
   "cell_type": "markdown",
   "metadata": {},
   "source": [
    "## 3. Create Ensemble Model"
   ]
  },
  {
   "cell_type": "code",
   "execution_count": 5,
   "metadata": {},
   "outputs": [
    {
     "data": {
      "text/html": [
       "\n",
       "        \n",
       "        <style type=\"text/css\">\n",
       "            .Relation{\n",
       "                border-collapse:collapse;\n",
       "            }\n",
       "            .Relation th{\n",
       "                background: #A0A0A0; color: #ffffff; padding:4px; border:#f0e0e0 1px solid;\n",
       "                font-weight: normal; font-family: monospace; font-size: 100%;\n",
       "            }\n",
       "            .Relation td{\n",
       "                padding:4px; border:#f0e0e0 1px solid; font-size:100%;\n",
       "            }\n",
       "            .Relation tr:nth-child(odd){\n",
       "                background: #ffffff;\n",
       "            }\n",
       "            .Relation tr:nth-child(even){\n",
       "                background: #f3f1ff;\n",
       "            }\n",
       "            /* Tooltip container */\n",
       "            .djtooltip {\n",
       "            }\n",
       "            /* Tooltip text */\n",
       "            .djtooltip .djtooltiptext {\n",
       "                visibility: hidden;\n",
       "                width: 120px;\n",
       "                background-color: black;\n",
       "                color: #fff;\n",
       "                text-align: center;\n",
       "                padding: 5px 0;\n",
       "                border-radius: 6px;\n",
       "                /* Position the tooltip text - see examples below! */\n",
       "                position: absolute;\n",
       "                z-index: 1;\n",
       "            }\n",
       "            #primary {\n",
       "                font-weight: bold;\n",
       "                color: black;\n",
       "            }\n",
       "\n",
       "            #nonprimary {\n",
       "                font-weight: normal;\n",
       "                color: white;\n",
       "            }\n",
       "\n",
       "            /* Show the tooltip text when you mouse over the tooltip container */\n",
       "            .djtooltip:hover .djtooltiptext {\n",
       "                visibility: visible;\n",
       "            }\n",
       "        </style>\n",
       "        \n",
       "        <b>contains ensemble ids</b>\n",
       "            <div style=\"max-height:1000px;max-width:1500px;overflow:auto;\">\n",
       "            <table border=\"1\" class=\"Relation\">\n",
       "                <thead> <tr style=\"text-align: right;\"> <th> <div class=\"djtooltip\">\n",
       "                                <p id=\"primary\">dataset_fn</p>\n",
       "                                <span class=\"djtooltiptext\">name of the dataset loader function</span>\n",
       "                            </div></th><th><div class=\"djtooltip\">\n",
       "                                <p id=\"primary\">dataset_hash</p>\n",
       "                                <span class=\"djtooltiptext\">hash of the configuration object</span>\n",
       "                            </div></th><th><div class=\"djtooltip\">\n",
       "                                <p id=\"primary\">ensemble_hash</p>\n",
       "                                <span class=\"djtooltiptext\">the hash of the ensemble</span>\n",
       "                            </div></th><th><div class=\"djtooltip\">\n",
       "                                <p id=\"nonprimary\">ensemble_comment</p>\n",
       "                                <span class=\"djtooltiptext\">a short comment describing the ensemble</span>\n",
       "                            </div> </th> </tr> </thead>\n",
       "                <tbody> <tr> <td>csrf_v1</td>\n",
       "<td>3d94500a46b792bbb480aedfc30f9753</td>\n",
       "<td>bd42401406ec0db224849255505fa17d</td>\n",
       "<td>Happy little ensemble</td> </tr> </tbody>\n",
       "            </table>\n",
       "            \n",
       "            <p>Total: 1</p></div>\n",
       "            "
      ],
      "text/plain": [
       "*dataset_fn    *dataset_hash  *ensemble_hash ensemble_comme\n",
       "+------------+ +------------+ +------------+ +------------+\n",
       "csrf_v1        3d94500a46b792 bd42401406ec0d Happy little e\n",
       " (Total: 1)"
      ]
     },
     "execution_count": 5,
     "metadata": {},
     "output_type": "execute_result"
    }
   ],
   "source": [
    "TrainedEnsembleModel().create_ensemble(dict(dataset_fn=\"csrf_v1\"), comment=\"Happy little ensemble\")\n",
    "TrainedEnsembleModel()"
   ]
  },
  {
   "cell_type": "markdown",
   "metadata": {},
   "source": [
    "## 4. Populate Selector Table"
   ]
  },
  {
   "cell_type": "code",
   "execution_count": 6,
   "metadata": {},
   "outputs": [
    {
     "data": {
      "text/html": [
       "\n",
       "        \n",
       "        <style type=\"text/css\">\n",
       "            .Relation{\n",
       "                border-collapse:collapse;\n",
       "            }\n",
       "            .Relation th{\n",
       "                background: #A0A0A0; color: #ffffff; padding:4px; border:#f0e0e0 1px solid;\n",
       "                font-weight: normal; font-family: monospace; font-size: 100%;\n",
       "            }\n",
       "            .Relation td{\n",
       "                padding:4px; border:#f0e0e0 1px solid; font-size:100%;\n",
       "            }\n",
       "            .Relation tr:nth-child(odd){\n",
       "                background: #ffffff;\n",
       "            }\n",
       "            .Relation tr:nth-child(even){\n",
       "                background: #f3f1ff;\n",
       "            }\n",
       "            /* Tooltip container */\n",
       "            .djtooltip {\n",
       "            }\n",
       "            /* Tooltip text */\n",
       "            .djtooltip .djtooltiptext {\n",
       "                visibility: hidden;\n",
       "                width: 120px;\n",
       "                background-color: black;\n",
       "                color: #fff;\n",
       "                text-align: center;\n",
       "                padding: 5px 0;\n",
       "                border-radius: 6px;\n",
       "                /* Position the tooltip text - see examples below! */\n",
       "                position: absolute;\n",
       "                z-index: 1;\n",
       "            }\n",
       "            #primary {\n",
       "                font-weight: bold;\n",
       "                color: black;\n",
       "            }\n",
       "\n",
       "            #nonprimary {\n",
       "                font-weight: normal;\n",
       "                color: white;\n",
       "            }\n",
       "\n",
       "            /* Show the tooltip text when you mouse over the tooltip container */\n",
       "            .djtooltip:hover .djtooltiptext {\n",
       "                visibility: visible;\n",
       "            }\n",
       "        </style>\n",
       "        \n",
       "        <b>contains information that can be used to map a neuron's id to its corresponding integer position in the output of</b>\n",
       "            <div style=\"max-height:1000px;max-width:1500px;overflow:auto;\">\n",
       "            <table border=\"1\" class=\"Relation\">\n",
       "                <thead> <tr style=\"text-align: right;\"> <th> <div class=\"djtooltip\">\n",
       "                                <p id=\"primary\">dataset_fn</p>\n",
       "                                <span class=\"djtooltiptext\">name of the dataset loader function</span>\n",
       "                            </div></th><th><div class=\"djtooltip\">\n",
       "                                <p id=\"primary\">dataset_hash</p>\n",
       "                                <span class=\"djtooltiptext\">hash of the configuration object</span>\n",
       "                            </div></th><th><div class=\"djtooltip\">\n",
       "                                <p id=\"primary\">neuron_id</p>\n",
       "                                <span class=\"djtooltiptext\">unique neuron identifier</span>\n",
       "                            </div></th><th><div class=\"djtooltip\">\n",
       "                                <p id=\"nonprimary\">neuron_position</p>\n",
       "                                <span class=\"djtooltiptext\">integer position of the neuron in the model's output</span>\n",
       "                            </div></th><th><div class=\"djtooltip\">\n",
       "                                <p id=\"nonprimary\">session_id</p>\n",
       "                                <span class=\"djtooltiptext\">unique session identifier</span>\n",
       "                            </div> </th> </tr> </thead>\n",
       "                <tbody> <tr> <td>csrf_v1</td>\n",
       "<td>3d94500a46b792bbb480aedfc30f9753</td>\n",
       "<td>188</td>\n",
       "<td>0</td>\n",
       "<td>3638456653849</td></tr><tr><td>csrf_v1</td>\n",
       "<td>3d94500a46b792bbb480aedfc30f9753</td>\n",
       "<td>189</td>\n",
       "<td>1</td>\n",
       "<td>3638456653849</td></tr><tr><td>csrf_v1</td>\n",
       "<td>3d94500a46b792bbb480aedfc30f9753</td>\n",
       "<td>371</td>\n",
       "<td>0</td>\n",
       "<td>3634744023164</td></tr><tr><td>csrf_v1</td>\n",
       "<td>3d94500a46b792bbb480aedfc30f9753</td>\n",
       "<td>372</td>\n",
       "<td>1</td>\n",
       "<td>3634744023164</td></tr><tr><td>csrf_v1</td>\n",
       "<td>3d94500a46b792bbb480aedfc30f9753</td>\n",
       "<td>373</td>\n",
       "<td>2</td>\n",
       "<td>3634744023164</td></tr><tr><td>csrf_v1</td>\n",
       "<td>3d94500a46b792bbb480aedfc30f9753</td>\n",
       "<td>374</td>\n",
       "<td>3</td>\n",
       "<td>3634744023164</td></tr><tr><td>csrf_v1</td>\n",
       "<td>3d94500a46b792bbb480aedfc30f9753</td>\n",
       "<td>375</td>\n",
       "<td>4</td>\n",
       "<td>3634744023164</td></tr><tr><td>csrf_v1</td>\n",
       "<td>3d94500a46b792bbb480aedfc30f9753</td>\n",
       "<td>376</td>\n",
       "<td>5</td>\n",
       "<td>3634744023164</td></tr><tr><td>csrf_v1</td>\n",
       "<td>3d94500a46b792bbb480aedfc30f9753</td>\n",
       "<td>377</td>\n",
       "<td>6</td>\n",
       "<td>3634744023164</td></tr><tr><td>csrf_v1</td>\n",
       "<td>3d94500a46b792bbb480aedfc30f9753</td>\n",
       "<td>378</td>\n",
       "<td>7</td>\n",
       "<td>3634744023164</td></tr><tr><td>csrf_v1</td>\n",
       "<td>3d94500a46b792bbb480aedfc30f9753</td>\n",
       "<td>379</td>\n",
       "<td>8</td>\n",
       "<td>3634744023164</td></tr><tr><td>csrf_v1</td>\n",
       "<td>3d94500a46b792bbb480aedfc30f9753</td>\n",
       "<td>380</td>\n",
       "<td>9</td>\n",
       "<td>3634744023164</td> </tr> </tbody>\n",
       "            </table>\n",
       "            <p>...</p>\n",
       "            <p>Total: 14</p></div>\n",
       "            "
      ],
      "text/plain": [
       "*dataset_fn    *dataset_hash  *neuron_id    neuron_positio session_id    \n",
       "+------------+ +------------+ +-----------+ +------------+ +------------+\n",
       "csrf_v1        3d94500a46b792 188           0              3638456653849 \n",
       "csrf_v1        3d94500a46b792 189           1              3638456653849 \n",
       "csrf_v1        3d94500a46b792 371           0              3634744023164 \n",
       "csrf_v1        3d94500a46b792 372           1              3634744023164 \n",
       "csrf_v1        3d94500a46b792 373           2              3634744023164 \n",
       "csrf_v1        3d94500a46b792 374           3              3634744023164 \n",
       "csrf_v1        3d94500a46b792 375           4              3634744023164 \n",
       "csrf_v1        3d94500a46b792 376           5              3634744023164 \n",
       "csrf_v1        3d94500a46b792 377           6              3634744023164 \n",
       "csrf_v1        3d94500a46b792 378           7              3634744023164 \n",
       "csrf_v1        3d94500a46b792 379           8              3634744023164 \n",
       "csrf_v1        3d94500a46b792 380           9              3634744023164 \n",
       "   ...\n",
       " (Total: 14)"
      ]
     },
     "execution_count": 6,
     "metadata": {},
     "output_type": "execute_result"
    }
   ],
   "source": [
    "CSRFV1Selector.populate()\n",
    "CSRFV1Selector()"
   ]
  },
  {
   "cell_type": "markdown",
   "metadata": {},
   "source": [
    "## 5. Specify MEI Method Parameters"
   ]
  },
  {
   "cell_type": "code",
   "execution_count": null,
   "metadata": {},
   "outputs": [],
   "source": [
    "MEI"
   ]
  },
  {
   "cell_type": "code",
   "execution_count": 7,
   "metadata": {},
   "outputs": [
    {
     "data": {
      "text/html": [
       "\n",
       "        \n",
       "        <style type=\"text/css\">\n",
       "            .Relation{\n",
       "                border-collapse:collapse;\n",
       "            }\n",
       "            .Relation th{\n",
       "                background: #A0A0A0; color: #ffffff; padding:4px; border:#f0e0e0 1px solid;\n",
       "                font-weight: normal; font-family: monospace; font-size: 100%;\n",
       "            }\n",
       "            .Relation td{\n",
       "                padding:4px; border:#f0e0e0 1px solid; font-size:100%;\n",
       "            }\n",
       "            .Relation tr:nth-child(odd){\n",
       "                background: #ffffff;\n",
       "            }\n",
       "            .Relation tr:nth-child(even){\n",
       "                background: #f3f1ff;\n",
       "            }\n",
       "            /* Tooltip container */\n",
       "            .djtooltip {\n",
       "            }\n",
       "            /* Tooltip text */\n",
       "            .djtooltip .djtooltiptext {\n",
       "                visibility: hidden;\n",
       "                width: 120px;\n",
       "                background-color: black;\n",
       "                color: #fff;\n",
       "                text-align: center;\n",
       "                padding: 5px 0;\n",
       "                border-radius: 6px;\n",
       "                /* Position the tooltip text - see examples below! */\n",
       "                position: absolute;\n",
       "                z-index: 1;\n",
       "            }\n",
       "            #primary {\n",
       "                font-weight: bold;\n",
       "                color: black;\n",
       "            }\n",
       "\n",
       "            #nonprimary {\n",
       "                font-weight: normal;\n",
       "                color: white;\n",
       "            }\n",
       "\n",
       "            /* Show the tooltip text when you mouse over the tooltip container */\n",
       "            .djtooltip:hover .djtooltiptext {\n",
       "                visibility: visible;\n",
       "            }\n",
       "        </style>\n",
       "        \n",
       "        <b>contains methods for generating MEIs and their configurations.</b>\n",
       "            <div style=\"max-height:1000px;max-width:1500px;overflow:auto;\">\n",
       "            <table border=\"1\" class=\"Relation\">\n",
       "                <thead> <tr style=\"text-align: right;\"> <th> <div class=\"djtooltip\">\n",
       "                                <p id=\"primary\">method_fn</p>\n",
       "                                <span class=\"djtooltiptext\">name of the method function</span>\n",
       "                            </div></th><th><div class=\"djtooltip\">\n",
       "                                <p id=\"primary\">method_hash</p>\n",
       "                                <span class=\"djtooltiptext\">hash of the method config</span>\n",
       "                            </div></th><th><div class=\"djtooltip\">\n",
       "                                <p id=\"nonprimary\">method_config</p>\n",
       "                                <span class=\"djtooltiptext\">method configuration object</span>\n",
       "                            </div></th><th><div class=\"djtooltip\">\n",
       "                                <p id=\"nonprimary\">method_ts</p>\n",
       "                                <span class=\"djtooltiptext\">UTZ timestamp at time of insertion</span>\n",
       "                            </div> </th> </tr> </thead>\n",
       "                <tbody> <tr> <td>featurevis.methods.ascend_gradient</td>\n",
       "<td>acfff7083e0aa299f6101c7a3f18efc3</td>\n",
       "<td>=BLOB=</td>\n",
       "<td>2020-04-21 09:49:54</td> </tr> </tbody>\n",
       "            </table>\n",
       "            \n",
       "            <p>Total: 1</p></div>\n",
       "            "
      ],
      "text/plain": [
       "*method_fn     *method_hash   method_con method_ts     \n",
       "+------------+ +------------+ +--------+ +------------+\n",
       "featurevis.met acfff7083e0aa2 =BLOB=     2020-04-21 09:\n",
       " (Total: 1)"
      ]
     },
     "execution_count": 7,
     "metadata": {},
     "output_type": "execute_result"
    }
   ],
   "source": [
    "method_fn = \"featurevis.methods.ascend_gradient\"\n",
    "method_config = dict(\n",
    "    optimizer=\"torch.optim.SGD\",\n",
    "    optimizer_kwargs=dict(lr=0.1),\n",
    "    stopper=\"featurevis.stoppers.NumIterations\",\n",
    "    stopper_kwargs=dict(num_iterations=1000),\n",
    "    transform=None,\n",
    "    transform_kwargs=None,\n",
    "    regularization=None,\n",
    "    regularization_kwargs=None,\n",
    "    precondition=None,\n",
    "    precondition_kwargs=None,\n",
    "    postprocessing=None,\n",
    "    postprocessing_kwargs=None,\n",
    "    device=\"cuda\",\n",
    ")\n",
    "MEIMethod().add_method(method_fn, method_config)\n",
    "MEIMethod()"
   ]
  },
  {
   "cell_type": "markdown",
   "metadata": {},
   "source": [
    "## 6. Add Seed"
   ]
  },
  {
   "cell_type": "code",
   "execution_count": 8,
   "metadata": {},
   "outputs": [
    {
     "data": {
      "text/html": [
       "\n",
       "        \n",
       "        <style type=\"text/css\">\n",
       "            .Relation{\n",
       "                border-collapse:collapse;\n",
       "            }\n",
       "            .Relation th{\n",
       "                background: #A0A0A0; color: #ffffff; padding:4px; border:#f0e0e0 1px solid;\n",
       "                font-weight: normal; font-family: monospace; font-size: 100%;\n",
       "            }\n",
       "            .Relation td{\n",
       "                padding:4px; border:#f0e0e0 1px solid; font-size:100%;\n",
       "            }\n",
       "            .Relation tr:nth-child(odd){\n",
       "                background: #ffffff;\n",
       "            }\n",
       "            .Relation tr:nth-child(even){\n",
       "                background: #f3f1ff;\n",
       "            }\n",
       "            /* Tooltip container */\n",
       "            .djtooltip {\n",
       "            }\n",
       "            /* Tooltip text */\n",
       "            .djtooltip .djtooltiptext {\n",
       "                visibility: hidden;\n",
       "                width: 120px;\n",
       "                background-color: black;\n",
       "                color: #fff;\n",
       "                text-align: center;\n",
       "                padding: 5px 0;\n",
       "                border-radius: 6px;\n",
       "                /* Position the tooltip text - see examples below! */\n",
       "                position: absolute;\n",
       "                z-index: 1;\n",
       "            }\n",
       "            #primary {\n",
       "                font-weight: bold;\n",
       "                color: black;\n",
       "            }\n",
       "\n",
       "            #nonprimary {\n",
       "                font-weight: normal;\n",
       "                color: white;\n",
       "            }\n",
       "\n",
       "            /* Show the tooltip text when you mouse over the tooltip container */\n",
       "            .djtooltip:hover .djtooltiptext {\n",
       "                visibility: visible;\n",
       "            }\n",
       "        </style>\n",
       "        \n",
       "        <b>contains seeds used to make the MEI generation process reproducible</b>\n",
       "            <div style=\"max-height:1000px;max-width:1500px;overflow:auto;\">\n",
       "            <table border=\"1\" class=\"Relation\">\n",
       "                <thead> <tr style=\"text-align: right;\"> <th> <div class=\"djtooltip\">\n",
       "                                <p id=\"primary\">mei_seed</p>\n",
       "                                <span class=\"djtooltiptext\">MEI seed</span>\n",
       "                            </div> </th> </tr> </thead>\n",
       "                <tbody> <tr> <td>42</td> </tr> </tbody>\n",
       "            </table>\n",
       "            \n",
       "            <p>Total: 1</p></div>\n",
       "            "
      ],
      "text/plain": [
       "*mei_seed   \n",
       "+----------+\n",
       "42          \n",
       " (Total: 1)"
      ]
     },
     "execution_count": 8,
     "metadata": {},
     "output_type": "execute_result"
    }
   ],
   "source": [
    "MEISeed().insert1(dict(mei_seed=42))\n",
    "MEISeed()"
   ]
  },
  {
   "cell_type": "markdown",
   "metadata": {},
   "source": [
    "## 7. Generate MEIs"
   ]
  },
  {
   "cell_type": "code",
   "execution_count": null,
   "metadata": {},
   "outputs": [],
   "source": [
    "MEI().populate(dict(neuron_id=188), display_progress=True)\n",
    "MEI()"
   ]
  },
  {
   "cell_type": "markdown",
   "metadata": {},
   "source": [
    "## 8. Look at MEIs"
   ]
  },
  {
   "cell_type": "code",
   "execution_count": null,
   "metadata": {},
   "outputs": [],
   "source": [
    "neuron_id = 188\n",
    "mei_path = (MEI() & dict(ensemble_id=0, neuron_id=neuron_id)).fetch1(\"mei\")\n",
    "plt.imshow(load(mei_path), cmap=\"gray\")\n",
    "plt.gca().axis(\"off\")\n",
    "os.remove(mei_path)"
   ]
  }
 ],
 "metadata": {
  "kernelspec": {
   "display_name": "Python 3",
   "language": "python",
   "name": "python3"
  },
  "language_info": {
   "codemirror_mode": {
    "name": "ipython",
    "version": 3
   },
   "file_extension": ".py",
   "mimetype": "text/x-python",
   "name": "python",
   "nbconvert_exporter": "python",
   "pygments_lexer": "ipython3",
   "version": "3.8.0"
  }
 },
 "nbformat": 4,
 "nbformat_minor": 4
}
